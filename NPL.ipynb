{
 "cells": [
  {
   "cell_type": "markdown",
   "id": "4a613818-8947-45c4-9940-e8cc783325c4",
   "metadata": {},
   "source": [
    "### Importando dados"
   ]
  },
  {
   "cell_type": "code",
   "execution_count": 4,
   "id": "3ea5b06d-f129-45c2-adb7-8fbc164a2b27",
   "metadata": {},
   "outputs": [],
   "source": [
    "import pandas as pd"
   ]
  },
  {
   "cell_type": "code",
   "execution_count": 8,
   "id": "5084e955-4c89-4f82-a490-f16973a822a6",
   "metadata": {},
   "outputs": [],
   "source": [
    "dados_portugues = pd.read_csv('https://caelum-online-public.s3.amazonaws.com/1321-nlp-modelos-linguagem/Dados+csv/stackoverflow_portugues.csv')"
   ]
  },
  {
   "cell_type": "code",
   "execution_count": 9,
   "id": "b50db2b6-6199-4b95-ac58-304a9c5384b5",
   "metadata": {},
   "outputs": [],
   "source": [
    "dados_ingles = pd.read_csv('https://caelum-online-public.s3.amazonaws.com/1321-nlp-modelos-linguagem/Dados+csv/stackoverflow_ingles.csv') "
   ]
  },
  {
   "cell_type": "code",
   "execution_count": 10,
   "id": "63821605-ce52-4c6c-ae66-6088c277a674",
   "metadata": {},
   "outputs": [],
   "source": [
    "dados_espanhol = pd.read_csv('https://caelum-online-public.s3.amazonaws.com/1321-nlp-modelos-linguagem/Dados+csv/stackoverflow_espanhol.csv')"
   ]
  },
  {
   "cell_type": "code",
   "execution_count": 11,
   "id": "21367c57-d116-4e32-ae0b-6bc4eed39cfa",
   "metadata": {},
   "outputs": [
    {
     "data": {
      "text/html": [
       "<div>\n",
       "<style scoped>\n",
       "    .dataframe tbody tr th:only-of-type {\n",
       "        vertical-align: middle;\n",
       "    }\n",
       "\n",
       "    .dataframe tbody tr th {\n",
       "        vertical-align: top;\n",
       "    }\n",
       "\n",
       "    .dataframe thead th {\n",
       "        text-align: right;\n",
       "    }\n",
       "</style>\n",
       "<table border=\"1\" class=\"dataframe\">\n",
       "  <thead>\n",
       "    <tr style=\"text-align: right;\">\n",
       "      <th></th>\n",
       "      <th>Id</th>\n",
       "      <th>Título</th>\n",
       "      <th>Questão</th>\n",
       "      <th>Tags</th>\n",
       "      <th>Pontuação</th>\n",
       "      <th>Visualizações</th>\n",
       "    </tr>\n",
       "  </thead>\n",
       "  <tbody>\n",
       "    <tr>\n",
       "      <th>0</th>\n",
       "      <td>2402</td>\n",
       "      <td>Como fazer hash de senhas de forma segura?</td>\n",
       "      <td>&lt;p&gt;Se eu fizer o &lt;em&gt;&lt;a href=\"http://pt.wikipe...</td>\n",
       "      <td>&lt;hash&gt;&lt;segurança&gt;&lt;senhas&gt;&lt;criptografia&gt;</td>\n",
       "      <td>350</td>\n",
       "      <td>22367</td>\n",
       "    </tr>\n",
       "    <tr>\n",
       "      <th>1</th>\n",
       "      <td>6441</td>\n",
       "      <td>Qual é a diferença entre INNER JOIN e OUTER JOIN?</td>\n",
       "      <td>&lt;p&gt;Qual é a diferença entre &lt;code&gt;INNER JOIN&lt;/...</td>\n",
       "      <td>&lt;sql&gt;&lt;join&gt;</td>\n",
       "      <td>276</td>\n",
       "      <td>176953</td>\n",
       "    </tr>\n",
       "  </tbody>\n",
       "</table>\n",
       "</div>"
      ],
      "text/plain": [
       "     Id                                             Título  \\\n",
       "0  2402         Como fazer hash de senhas de forma segura?   \n",
       "1  6441  Qual é a diferença entre INNER JOIN e OUTER JOIN?   \n",
       "\n",
       "                                             Questão  \\\n",
       "0  <p>Se eu fizer o <em><a href=\"http://pt.wikipe...   \n",
       "1  <p>Qual é a diferença entre <code>INNER JOIN</...   \n",
       "\n",
       "                                      Tags  Pontuação  Visualizações  \n",
       "0  <hash><segurança><senhas><criptografia>        350          22367  \n",
       "1                              <sql><join>        276         176953  "
      ]
     },
     "execution_count": 11,
     "metadata": {},
     "output_type": "execute_result"
    }
   ],
   "source": [
    "dados_portugues.head(2)"
   ]
  },
  {
   "cell_type": "code",
   "execution_count": 48,
   "id": "ecc7c28d-c08a-4422-b5b2-503cb10a0366",
   "metadata": {},
   "outputs": [
    {
     "data": {
      "text/html": [
       "<div>\n",
       "<style scoped>\n",
       "    .dataframe tbody tr th:only-of-type {\n",
       "        vertical-align: middle;\n",
       "    }\n",
       "\n",
       "    .dataframe tbody tr th {\n",
       "        vertical-align: top;\n",
       "    }\n",
       "\n",
       "    .dataframe thead th {\n",
       "        text-align: right;\n",
       "    }\n",
       "</style>\n",
       "<table border=\"1\" class=\"dataframe\">\n",
       "  <thead>\n",
       "    <tr style=\"text-align: right;\">\n",
       "      <th></th>\n",
       "      <th>Id</th>\n",
       "      <th>Título</th>\n",
       "      <th>Questão</th>\n",
       "      <th>Tags</th>\n",
       "      <th>Pontuação</th>\n",
       "      <th>Visualizações</th>\n",
       "    </tr>\n",
       "  </thead>\n",
       "  <tbody>\n",
       "    <tr>\n",
       "      <th>0</th>\n",
       "      <td>18232</td>\n",
       "      <td>¿Cómo evitar la inyección SQL en PHP?</td>\n",
       "      <td>&lt;p&gt;Las sentencias dinámicas son sentencias SQL...</td>\n",
       "      <td>&lt;php&gt;&lt;mysql&gt;&lt;sql&gt;&lt;seguridad&gt;&lt;inyección-sql&gt;</td>\n",
       "      <td>169</td>\n",
       "      <td>38614</td>\n",
       "    </tr>\n",
       "    <tr>\n",
       "      <th>1</th>\n",
       "      <td>197</td>\n",
       "      <td>¿Por qué mis programas no pueden hacer cálculo...</td>\n",
       "      <td>&lt;p&gt;Unas veces los cálculos funcionan correctam...</td>\n",
       "      <td>&lt;matemáticas&gt;&lt;coma-flotante&gt;&lt;lenguaje-agnóstico&gt;</td>\n",
       "      <td>141</td>\n",
       "      <td>3860</td>\n",
       "    </tr>\n",
       "  </tbody>\n",
       "</table>\n",
       "</div>"
      ],
      "text/plain": [
       "      Id                                             Título  \\\n",
       "0  18232              ¿Cómo evitar la inyección SQL en PHP?   \n",
       "1    197  ¿Por qué mis programas no pueden hacer cálculo...   \n",
       "\n",
       "                                             Questão  \\\n",
       "0  <p>Las sentencias dinámicas son sentencias SQL...   \n",
       "1  <p>Unas veces los cálculos funcionan correctam...   \n",
       "\n",
       "                                               Tags  Pontuação  Visualizações  \n",
       "0       <php><mysql><sql><seguridad><inyección-sql>        169          38614  \n",
       "1  <matemáticas><coma-flotante><lenguaje-agnóstico>        141           3860  "
      ]
     },
     "execution_count": 48,
     "metadata": {},
     "output_type": "execute_result"
    }
   ],
   "source": [
    "dados_espanhol.head(2)"
   ]
  },
  {
   "cell_type": "code",
   "execution_count": 49,
   "id": "30b32d52-fe2a-43b5-9d75-f18a3ac7fda1",
   "metadata": {},
   "outputs": [
    {
     "data": {
      "text/html": [
       "<div>\n",
       "<style scoped>\n",
       "    .dataframe tbody tr th:only-of-type {\n",
       "        vertical-align: middle;\n",
       "    }\n",
       "\n",
       "    .dataframe tbody tr th {\n",
       "        vertical-align: top;\n",
       "    }\n",
       "\n",
       "    .dataframe thead th {\n",
       "        text-align: right;\n",
       "    }\n",
       "</style>\n",
       "<table border=\"1\" class=\"dataframe\">\n",
       "  <thead>\n",
       "    <tr style=\"text-align: right;\">\n",
       "      <th></th>\n",
       "      <th>Id</th>\n",
       "      <th>Título</th>\n",
       "      <th>Questão</th>\n",
       "      <th>Tags</th>\n",
       "      <th>Pontuação</th>\n",
       "      <th>Visualizações</th>\n",
       "    </tr>\n",
       "  </thead>\n",
       "  <tbody>\n",
       "    <tr>\n",
       "      <th>0</th>\n",
       "      <td>11227809</td>\n",
       "      <td>Why is it faster to process a sorted array tha...</td>\n",
       "      <td>&lt;p&gt;Here is a piece of C++ code that seems very...</td>\n",
       "      <td>&lt;java&gt;&lt;c++&gt;&lt;performance&gt;&lt;optimization&gt;&lt;branch-...</td>\n",
       "      <td>23057</td>\n",
       "      <td>1358574</td>\n",
       "    </tr>\n",
       "    <tr>\n",
       "      <th>1</th>\n",
       "      <td>927358</td>\n",
       "      <td>How do I undo the most recent local commits in...</td>\n",
       "      <td>&lt;p&gt;I accidentally committed the wrong files to...</td>\n",
       "      <td>&lt;git&gt;&lt;version-control&gt;&lt;git-commit&gt;&lt;undo&gt;</td>\n",
       "      <td>19640</td>\n",
       "      <td>7906137</td>\n",
       "    </tr>\n",
       "  </tbody>\n",
       "</table>\n",
       "</div>"
      ],
      "text/plain": [
       "         Id                                             Título  \\\n",
       "0  11227809  Why is it faster to process a sorted array tha...   \n",
       "1    927358  How do I undo the most recent local commits in...   \n",
       "\n",
       "                                             Questão  \\\n",
       "0  <p>Here is a piece of C++ code that seems very...   \n",
       "1  <p>I accidentally committed the wrong files to...   \n",
       "\n",
       "                                                Tags  Pontuação  Visualizações  \n",
       "0  <java><c++><performance><optimization><branch-...      23057        1358574  \n",
       "1           <git><version-control><git-commit><undo>      19640        7906137  "
      ]
     },
     "execution_count": 49,
     "metadata": {},
     "output_type": "execute_result"
    }
   ],
   "source": [
    "dados_ingles.head(2)"
   ]
  },
  {
   "cell_type": "code",
   "execution_count": 13,
   "id": "a0b1f8a2-75a5-4f4e-9da6-d8c4c6812797",
   "metadata": {},
   "outputs": [
    {
     "name": "stdout",
     "output_type": "stream",
     "text": [
      "<p>Desenvolvi uma página em PHP para uso interno da empresa que trabalho e apenas pouquíssimas pessoas a utilizam. Através dessa página é possível fazer algumas consultas, inserções, alterações e remoções de dados de uma tabela em um banco de dados MySQL, porém eu acredito que meu código em PHP não está protegido contra injeção de código SQL, por exemplo:</p>\n",
      "\n",
      "<pre><code>//----CONSULTA SQL----//\n",
      "$busca = mysql_query ('insert into Produtos (coluna) values(' . $valor . ')');\n",
      "</code></pre>\n",
      "\n",
      "<p>Logo, digamos que o usuário usar a sentença: <code>1); DROP TABLE Produtos;</code> para ao campo <code>valor</code> o comando ficaria: </p>\n",
      "\n",
      "<pre><code>insert into Produtos (coluna) values(1); DROP TABLE Produtos;\n",
      "</code></pre>\n",
      "\n",
      "<p>Ele vai inserir um novo registro cujo o campo <code>coluna</code> será <code>1</code> e logo em seguida ele vai deletar a tabela Produtos.</p>\n",
      "\n",
      "<p>Como posso melhorar meu código para prevenir essa situação?</p>\n",
      "\n"
     ]
    }
   ],
   "source": [
    "print(dados_portugues.Questão[5])"
   ]
  },
  {
   "cell_type": "code",
   "execution_count": 14,
   "id": "edad8648-f377-4f96-b845-d3eb91134151",
   "metadata": {},
   "outputs": [],
   "source": [
    "# é preciso limpar tags e trechos de códigos já que eles não são de interesse quando \n",
    "# se trabalha com linguagem"
   ]
  },
  {
   "cell_type": "markdown",
   "id": "186a0c23-173e-473d-b2a7-257ccc7708a7",
   "metadata": {},
   "source": [
    "## Regex Python"
   ]
  },
  {
   "cell_type": "code",
   "execution_count": 15,
   "id": "b6cce3ba-5033-45cb-8891-28731fa2fb6f",
   "metadata": {},
   "outputs": [],
   "source": [
    "import re"
   ]
  },
  {
   "cell_type": "code",
   "execution_count": 50,
   "id": "3b13d2a5-69be-4c21-937e-c4c3b5da4a89",
   "metadata": {},
   "outputs": [],
   "source": [
    "questoes_portugues = dados_portugues.Questão[5]\n",
    "questoes_espanhol = dados_espanhol.Questão[5]\n",
    "questoes_ingles = dados_ingles.Questão[5]"
   ]
  },
  {
   "cell_type": "code",
   "execution_count": 24,
   "id": "189c47e7-eabe-47a8-ad23-8e356d351fe1",
   "metadata": {},
   "outputs": [
    {
     "data": {
      "text/plain": [
       "\"<p>Desenvolvi uma página em PHP para uso interno da empresa que trabalho e apenas pouquíssimas pessoas a utilizam. Através dessa página é possível fazer algumas consultas, inserções, alterações e remoções de dados de uma tabela em um banco de dados MySQL, porém eu acredito que meu código em PHP não está protegido contra injeção de código SQL, por exemplo:</p>\\n\\n<pre><code>//----CONSULTA SQL----//\\n$busca = mysql_query ('insert into Produtos (coluna) values(' . $valor . ')');\\n</code></pre>\\n\\n<p>Logo, digamos que o usuário usar a sentença: <code>1); DROP TABLE Produtos;</code> para ao campo <code>valor</code> o comando ficaria: </p>\\n\\n<pre><code>insert into Produtos (coluna) values(1); DROP TABLE Produtos;\\n</code></pre>\\n\\n<p>Ele vai inserir um novo registro cujo o campo <code>coluna</code> será <code>1</code> e logo em seguida ele vai deletar a tabela Produtos.</p>\\n\\n<p>Como posso melhorar meu código para prevenir essa situação?</p>\\n\""
      ]
     },
     "execution_count": 24,
     "metadata": {},
     "output_type": "execute_result"
    }
   ],
   "source": [
    "questoes_portugues"
   ]
  },
  {
   "cell_type": "code",
   "execution_count": 29,
   "id": "4b248722-ede6-490d-b93a-70e04516ac75",
   "metadata": {},
   "outputs": [
    {
     "data": {
      "text/plain": [
       "['</p>', '</p>', '</p>', '</p>']"
      ]
     },
     "execution_count": 29,
     "metadata": {},
     "output_type": "execute_result"
    }
   ],
   "source": [
    "re.findall(r\"</p>\", questoes_portugues)"
   ]
  },
  {
   "cell_type": "code",
   "execution_count": 30,
   "id": "4b655da8-0177-4cdf-b66b-657ddf0d7327",
   "metadata": {},
   "outputs": [
    {
     "data": {
      "text/plain": [
       "['<p>',\n",
       " '</p>',\n",
       " '<pre>',\n",
       " '<code>',\n",
       " '</code>',\n",
       " '</pre>',\n",
       " '<p>',\n",
       " '<code>',\n",
       " '</code>',\n",
       " '<code>',\n",
       " '</code>',\n",
       " '</p>',\n",
       " '<pre>',\n",
       " '<code>',\n",
       " '</code>',\n",
       " '</pre>',\n",
       " '<p>',\n",
       " '<code>',\n",
       " '</code>',\n",
       " '<code>',\n",
       " '</code>',\n",
       " '</p>',\n",
       " '<p>',\n",
       " '</p>']"
      ]
     },
     "execution_count": 30,
     "metadata": {},
     "output_type": "execute_result"
    }
   ],
   "source": [
    "re.findall(r\"<.*?>\", questoes_portugues)"
   ]
  },
  {
   "cell_type": "code",
   "execution_count": 31,
   "id": "dcdc1540-fddf-443d-b5cb-c8875acbb1cb",
   "metadata": {},
   "outputs": [
    {
     "name": "stdout",
     "output_type": "stream",
     "text": [
      " T----E----S----T  Desenvolvi uma página em PHP para uso interno da empresa que trabalho e apenas pouquíssimas pessoas a utilizam. Através dessa página é possível fazer algumas consultas, inserções, alterações e remoções de dados de uma tabela em um banco de dados MySQL, porém eu acredito que meu código em PHP não está protegido contra injeção de código SQL, por exemplo: T----E----S----T  \n",
      "\n",
      " T----E----S----T   T----E----S----T  //----CONSULTA SQL----//\n",
      "$busca = mysql_query ('insert into Produtos (coluna) values(' . $valor . ')');\n",
      " T----E----S----T   T----E----S----T  \n",
      "\n",
      " T----E----S----T  Logo, digamos que o usuário usar a sentença:  T----E----S----T  1); DROP TABLE Produtos; T----E----S----T   para ao campo  T----E----S----T  valor T----E----S----T   o comando ficaria:  T----E----S----T  \n",
      "\n",
      " T----E----S----T   T----E----S----T  insert into Produtos (coluna) values(1); DROP TABLE Produtos;\n",
      " T----E----S----T   T----E----S----T  \n",
      "\n",
      " T----E----S----T  Ele vai inserir um novo registro cujo o campo  T----E----S----T  coluna T----E----S----T   será  T----E----S----T  1 T----E----S----T   e logo em seguida ele vai deletar a tabela Produtos. T----E----S----T  \n",
      "\n",
      " T----E----S----T  Como posso melhorar meu código para prevenir essa situação? T----E----S----T  \n",
      "\n"
     ]
    }
   ],
   "source": [
    "print(re.sub(r\"<.*?>\", \" T----E----S----T  \", questoes_portugues))"
   ]
  },
  {
   "cell_type": "markdown",
   "id": "67f5f9ea-6971-48a3-a282-45db0f790f24",
   "metadata": {},
   "source": [
    " ### Usando re.search and re.compile"
   ]
  },
  {
   "cell_type": "code",
   "execution_count": 32,
   "id": "24177b20-9c5a-46a3-9a48-d0e7b1f5c7a0",
   "metadata": {},
   "outputs": [
    {
     "data": {
      "text/plain": [
       "<re.Match object; span=(24, 26), match='70'>"
      ]
     },
     "execution_count": 32,
     "metadata": {},
     "output_type": "execute_result"
    }
   ],
   "source": [
    "# procurando por \"70\"dentro de uma string:\n",
    "re.search(r\"70\", \"12747473657634873847928370\")"
   ]
  },
  {
   "cell_type": "code",
   "execution_count": 33,
   "id": "eec4f96a-ea95-4dc7-b858-f200c446c1e7",
   "metadata": {},
   "outputs": [
    {
     "data": {
      "text/plain": [
       "<re.Match object; span=(24, 26), match='70'>"
      ]
     },
     "execution_count": 33,
     "metadata": {},
     "output_type": "execute_result"
    }
   ],
   "source": [
    "# usando re.compile\n",
    "regex = re.compile(r\"70\")\n",
    "regex.search(\"12747473657634873847928370\")\n"
   ]
  },
  {
   "cell_type": "code",
   "execution_count": 34,
   "id": "7412a40e-a2bb-4658-b995-e973a21443e9",
   "metadata": {},
   "outputs": [],
   "source": [
    "#### verificando eficiência de cada método"
   ]
  },
  {
   "cell_type": "code",
   "execution_count": 35,
   "id": "aecc486c-7d11-4292-b1f3-761c31d832f7",
   "metadata": {},
   "outputs": [],
   "source": [
    "from timeit import timeit"
   ]
  },
  {
   "cell_type": "code",
   "execution_count": null,
   "id": "022dd9b2-f577-42be-9889-b688bdd25eff",
   "metadata": {},
   "outputs": [
    {
     "data": {
      "text/plain": [
       "0.4842530420000912"
      ]
     },
     "execution_count": 37,
     "metadata": {},
     "output_type": "execute_result"
    }
   ],
   "source": [
    "# eficiencia re.search:\n",
    "setup = \"\"\"import re\"\"\"\n",
    "timeit(\"\"\"re.search(r\"70\", \"12747473657634873847928370\")\"\"\", setup)\n",
    "\n",
    "# em cada uma das 1milhão de chamadas, o regex é criado "
   ]
  },
  {
   "cell_type": "code",
   "execution_count": 39,
   "id": "4cb852dd-3886-43c3-81a5-92f2486ed33a",
   "metadata": {},
   "outputs": [
    {
     "data": {
      "text/plain": [
       "0.14139370900011272"
      ]
     },
     "execution_count": 39,
     "metadata": {},
     "output_type": "execute_result"
    }
   ],
   "source": [
    "# eficiencia re.compile:\n",
    "setup = \"\"\"import re \n",
    "regex = re.compile(r\"70\")\"\"\"\n",
    "timeit(\"\"\"regex.search(\"12747473657634873847928370\")\"\"\", setup)\n",
    "\n",
    "# o regex é criado apenas uma vez e depois é chamado 1milhão de vezes"
   ]
  },
  {
   "cell_type": "code",
   "execution_count": 40,
   "id": "8d6a4d74-fd3b-42a4-8a5b-55199139fc68",
   "metadata": {},
   "outputs": [],
   "source": [
    "# o re.compile é 3x mais rápido para realizar funcões "
   ]
  },
  {
   "cell_type": "markdown",
   "id": "0ed39d30-a16f-4fd6-adcc-2c1184131993",
   "metadata": {},
   "source": [
    "### Regex: Tratamento dos dados"
   ]
  },
  {
   "cell_type": "code",
   "execution_count": 43,
   "id": "e5daec00-0d48-46c6-8b77-46500caea31e",
   "metadata": {},
   "outputs": [],
   "source": [
    "# criando funcão para limpar o texto:\n",
    "def remove(textos, regex):\n",
    "    if type(textos) == str:\n",
    "        return regex.sub(\"\", textos) # realiza substituição se for um texto\n",
    "    else:\n",
    "        return [regex.sub(\"\", texto) for texto in textos] #realiza substituição para todos os textos\n",
    "\n",
    "    "
   ]
  },
  {
   "cell_type": "code",
   "execution_count": 46,
   "id": "f9cc636c-5d97-4a88-8f18-9776c94b0aca",
   "metadata": {},
   "outputs": [
    {
     "name": "stdout",
     "output_type": "stream",
     "text": [
      "Desenvolvi uma página em PHP para uso interno da empresa que trabalho e apenas pouquíssimas pessoas a utilizam. Através dessa página é possível fazer algumas consultas, inserções, alterações e remoções de dados de uma tabela em um banco de dados MySQL, porém eu acredito que meu código em PHP não está protegido contra injeção de código SQL, por exemplo:\n",
      "\n",
      "//----CONSULTA SQL----//\n",
      "$busca = mysql_query ('insert into Produtos (coluna) values(' . $valor . ')');\n",
      "\n",
      "\n",
      "Logo, digamos que o usuário usar a sentença: 1); DROP TABLE Produtos; para ao campo valor o comando ficaria: \n",
      "\n",
      "insert into Produtos (coluna) values(1); DROP TABLE Produtos;\n",
      "\n",
      "\n",
      "Ele vai inserir um novo registro cujo o campo coluna será 1 e logo em seguida ele vai deletar a tabela Produtos.\n",
      "\n",
      "Como posso melhorar meu código para prevenir essa situação?\n",
      "\n"
     ]
    }
   ],
   "source": [
    "regex_html = re.compile(r\"<.*?>\")\n",
    "questao_sem_tag = remove(questoes_portugues, regex_html)\n",
    "print(questao_sem_tag)"
   ]
  },
  {
   "cell_type": "markdown",
   "id": "126f1b5c-f326-440a-a9c4-d8b38b28a6f6",
   "metadata": {},
   "source": [
    "#### Removendo trechos de código"
   ]
  },
  {
   "cell_type": "code",
   "execution_count": null,
   "id": "6ad60e90-0d94-4e2a-8fa4-315552ac71ad",
   "metadata": {},
   "outputs": [],
   "source": [
    "  "
   ]
  }
 ],
 "metadata": {
  "kernelspec": {
   "display_name": "Python 3 (ipykernel)",
   "language": "python",
   "name": "python3"
  },
  "language_info": {
   "codemirror_mode": {
    "name": "ipython",
    "version": 3
   },
   "file_extension": ".py",
   "mimetype": "text/x-python",
   "name": "python",
   "nbconvert_exporter": "python",
   "pygments_lexer": "ipython3",
   "version": "3.9.13"
  }
 },
 "nbformat": 4,
 "nbformat_minor": 5
}

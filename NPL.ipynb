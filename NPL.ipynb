{
 "cells": [
  {
   "cell_type": "markdown",
   "id": "4a613818-8947-45c4-9940-e8cc783325c4",
   "metadata": {},
   "source": [
    "### Importando dados"
   ]
  },
  {
   "cell_type": "code",
   "execution_count": 1,
   "id": "3ea5b06d-f129-45c2-adb7-8fbc164a2b27",
   "metadata": {},
   "outputs": [],
   "source": [
    "import pandas as pd"
   ]
  },
  {
   "cell_type": "code",
   "execution_count": 2,
   "id": "5084e955-4c89-4f82-a490-f16973a822a6",
   "metadata": {},
   "outputs": [],
   "source": [
    "dados_portugues = pd.read_csv('https://caelum-online-public.s3.amazonaws.com/1321-nlp-modelos-linguagem/Dados+csv/stackoverflow_portugues.csv')"
   ]
  },
  {
   "cell_type": "code",
   "execution_count": 3,
   "id": "b50db2b6-6199-4b95-ac58-304a9c5384b5",
   "metadata": {},
   "outputs": [],
   "source": [
    "dados_ingles = pd.read_csv('https://caelum-online-public.s3.amazonaws.com/1321-nlp-modelos-linguagem/Dados+csv/stackoverflow_ingles.csv') "
   ]
  },
  {
   "cell_type": "code",
   "execution_count": 4,
   "id": "63821605-ce52-4c6c-ae66-6088c277a674",
   "metadata": {},
   "outputs": [],
   "source": [
    "dados_espanhol = pd.read_csv('https://caelum-online-public.s3.amazonaws.com/1321-nlp-modelos-linguagem/Dados+csv/stackoverflow_espanhol.csv')"
   ]
  },
  {
   "cell_type": "code",
   "execution_count": 5,
   "id": "21367c57-d116-4e32-ae0b-6bc4eed39cfa",
   "metadata": {},
   "outputs": [
    {
     "data": {
      "text/html": [
       "<div>\n",
       "<style scoped>\n",
       "    .dataframe tbody tr th:only-of-type {\n",
       "        vertical-align: middle;\n",
       "    }\n",
       "\n",
       "    .dataframe tbody tr th {\n",
       "        vertical-align: top;\n",
       "    }\n",
       "\n",
       "    .dataframe thead th {\n",
       "        text-align: right;\n",
       "    }\n",
       "</style>\n",
       "<table border=\"1\" class=\"dataframe\">\n",
       "  <thead>\n",
       "    <tr style=\"text-align: right;\">\n",
       "      <th></th>\n",
       "      <th>Id</th>\n",
       "      <th>Título</th>\n",
       "      <th>Questão</th>\n",
       "      <th>Tags</th>\n",
       "      <th>Pontuação</th>\n",
       "      <th>Visualizações</th>\n",
       "    </tr>\n",
       "  </thead>\n",
       "  <tbody>\n",
       "    <tr>\n",
       "      <th>0</th>\n",
       "      <td>2402</td>\n",
       "      <td>Como fazer hash de senhas de forma segura?</td>\n",
       "      <td>&lt;p&gt;Se eu fizer o &lt;em&gt;&lt;a href=\"http://pt.wikipe...</td>\n",
       "      <td>&lt;hash&gt;&lt;segurança&gt;&lt;senhas&gt;&lt;criptografia&gt;</td>\n",
       "      <td>350</td>\n",
       "      <td>22367</td>\n",
       "    </tr>\n",
       "    <tr>\n",
       "      <th>1</th>\n",
       "      <td>6441</td>\n",
       "      <td>Qual é a diferença entre INNER JOIN e OUTER JOIN?</td>\n",
       "      <td>&lt;p&gt;Qual é a diferença entre &lt;code&gt;INNER JOIN&lt;/...</td>\n",
       "      <td>&lt;sql&gt;&lt;join&gt;</td>\n",
       "      <td>276</td>\n",
       "      <td>176953</td>\n",
       "    </tr>\n",
       "  </tbody>\n",
       "</table>\n",
       "</div>"
      ],
      "text/plain": [
       "     Id                                             Título  \\\n",
       "0  2402         Como fazer hash de senhas de forma segura?   \n",
       "1  6441  Qual é a diferença entre INNER JOIN e OUTER JOIN?   \n",
       "\n",
       "                                             Questão  \\\n",
       "0  <p>Se eu fizer o <em><a href=\"http://pt.wikipe...   \n",
       "1  <p>Qual é a diferença entre <code>INNER JOIN</...   \n",
       "\n",
       "                                      Tags  Pontuação  Visualizações  \n",
       "0  <hash><segurança><senhas><criptografia>        350          22367  \n",
       "1                              <sql><join>        276         176953  "
      ]
     },
     "execution_count": 5,
     "metadata": {},
     "output_type": "execute_result"
    }
   ],
   "source": [
    "dados_portugues.head(2)"
   ]
  },
  {
   "cell_type": "code",
   "execution_count": 6,
   "id": "ecc7c28d-c08a-4422-b5b2-503cb10a0366",
   "metadata": {},
   "outputs": [
    {
     "data": {
      "text/html": [
       "<div>\n",
       "<style scoped>\n",
       "    .dataframe tbody tr th:only-of-type {\n",
       "        vertical-align: middle;\n",
       "    }\n",
       "\n",
       "    .dataframe tbody tr th {\n",
       "        vertical-align: top;\n",
       "    }\n",
       "\n",
       "    .dataframe thead th {\n",
       "        text-align: right;\n",
       "    }\n",
       "</style>\n",
       "<table border=\"1\" class=\"dataframe\">\n",
       "  <thead>\n",
       "    <tr style=\"text-align: right;\">\n",
       "      <th></th>\n",
       "      <th>Id</th>\n",
       "      <th>Título</th>\n",
       "      <th>Questão</th>\n",
       "      <th>Tags</th>\n",
       "      <th>Pontuação</th>\n",
       "      <th>Visualizações</th>\n",
       "    </tr>\n",
       "  </thead>\n",
       "  <tbody>\n",
       "    <tr>\n",
       "      <th>0</th>\n",
       "      <td>18232</td>\n",
       "      <td>¿Cómo evitar la inyección SQL en PHP?</td>\n",
       "      <td>&lt;p&gt;Las sentencias dinámicas son sentencias SQL...</td>\n",
       "      <td>&lt;php&gt;&lt;mysql&gt;&lt;sql&gt;&lt;seguridad&gt;&lt;inyección-sql&gt;</td>\n",
       "      <td>169</td>\n",
       "      <td>38614</td>\n",
       "    </tr>\n",
       "    <tr>\n",
       "      <th>1</th>\n",
       "      <td>197</td>\n",
       "      <td>¿Por qué mis programas no pueden hacer cálculo...</td>\n",
       "      <td>&lt;p&gt;Unas veces los cálculos funcionan correctam...</td>\n",
       "      <td>&lt;matemáticas&gt;&lt;coma-flotante&gt;&lt;lenguaje-agnóstico&gt;</td>\n",
       "      <td>141</td>\n",
       "      <td>3860</td>\n",
       "    </tr>\n",
       "  </tbody>\n",
       "</table>\n",
       "</div>"
      ],
      "text/plain": [
       "      Id                                             Título  \\\n",
       "0  18232              ¿Cómo evitar la inyección SQL en PHP?   \n",
       "1    197  ¿Por qué mis programas no pueden hacer cálculo...   \n",
       "\n",
       "                                             Questão  \\\n",
       "0  <p>Las sentencias dinámicas son sentencias SQL...   \n",
       "1  <p>Unas veces los cálculos funcionan correctam...   \n",
       "\n",
       "                                               Tags  Pontuação  Visualizações  \n",
       "0       <php><mysql><sql><seguridad><inyección-sql>        169          38614  \n",
       "1  <matemáticas><coma-flotante><lenguaje-agnóstico>        141           3860  "
      ]
     },
     "execution_count": 6,
     "metadata": {},
     "output_type": "execute_result"
    }
   ],
   "source": [
    "dados_espanhol.head(2)"
   ]
  },
  {
   "cell_type": "code",
   "execution_count": 7,
   "id": "30b32d52-fe2a-43b5-9d75-f18a3ac7fda1",
   "metadata": {},
   "outputs": [
    {
     "data": {
      "text/html": [
       "<div>\n",
       "<style scoped>\n",
       "    .dataframe tbody tr th:only-of-type {\n",
       "        vertical-align: middle;\n",
       "    }\n",
       "\n",
       "    .dataframe tbody tr th {\n",
       "        vertical-align: top;\n",
       "    }\n",
       "\n",
       "    .dataframe thead th {\n",
       "        text-align: right;\n",
       "    }\n",
       "</style>\n",
       "<table border=\"1\" class=\"dataframe\">\n",
       "  <thead>\n",
       "    <tr style=\"text-align: right;\">\n",
       "      <th></th>\n",
       "      <th>Id</th>\n",
       "      <th>Título</th>\n",
       "      <th>Questão</th>\n",
       "      <th>Tags</th>\n",
       "      <th>Pontuação</th>\n",
       "      <th>Visualizações</th>\n",
       "    </tr>\n",
       "  </thead>\n",
       "  <tbody>\n",
       "    <tr>\n",
       "      <th>0</th>\n",
       "      <td>11227809</td>\n",
       "      <td>Why is it faster to process a sorted array tha...</td>\n",
       "      <td>&lt;p&gt;Here is a piece of C++ code that seems very...</td>\n",
       "      <td>&lt;java&gt;&lt;c++&gt;&lt;performance&gt;&lt;optimization&gt;&lt;branch-...</td>\n",
       "      <td>23057</td>\n",
       "      <td>1358574</td>\n",
       "    </tr>\n",
       "    <tr>\n",
       "      <th>1</th>\n",
       "      <td>927358</td>\n",
       "      <td>How do I undo the most recent local commits in...</td>\n",
       "      <td>&lt;p&gt;I accidentally committed the wrong files to...</td>\n",
       "      <td>&lt;git&gt;&lt;version-control&gt;&lt;git-commit&gt;&lt;undo&gt;</td>\n",
       "      <td>19640</td>\n",
       "      <td>7906137</td>\n",
       "    </tr>\n",
       "  </tbody>\n",
       "</table>\n",
       "</div>"
      ],
      "text/plain": [
       "         Id                                             Título  \\\n",
       "0  11227809  Why is it faster to process a sorted array tha...   \n",
       "1    927358  How do I undo the most recent local commits in...   \n",
       "\n",
       "                                             Questão  \\\n",
       "0  <p>Here is a piece of C++ code that seems very...   \n",
       "1  <p>I accidentally committed the wrong files to...   \n",
       "\n",
       "                                                Tags  Pontuação  Visualizações  \n",
       "0  <java><c++><performance><optimization><branch-...      23057        1358574  \n",
       "1           <git><version-control><git-commit><undo>      19640        7906137  "
      ]
     },
     "execution_count": 7,
     "metadata": {},
     "output_type": "execute_result"
    }
   ],
   "source": [
    "dados_ingles.head(2)"
   ]
  },
  {
   "cell_type": "code",
   "execution_count": 8,
   "id": "a0b1f8a2-75a5-4f4e-9da6-d8c4c6812797",
   "metadata": {},
   "outputs": [
    {
     "name": "stdout",
     "output_type": "stream",
     "text": [
      "<p>Desenvolvi uma página em PHP para uso interno da empresa que trabalho e apenas pouquíssimas pessoas a utilizam. Através dessa página é possível fazer algumas consultas, inserções, alterações e remoções de dados de uma tabela em um banco de dados MySQL, porém eu acredito que meu código em PHP não está protegido contra injeção de código SQL, por exemplo:</p>\n",
      "\n",
      "<pre><code>//----CONSULTA SQL----//\n",
      "$busca = mysql_query ('insert into Produtos (coluna) values(' . $valor . ')');\n",
      "</code></pre>\n",
      "\n",
      "<p>Logo, digamos que o usuário usar a sentença: <code>1); DROP TABLE Produtos;</code> para ao campo <code>valor</code> o comando ficaria: </p>\n",
      "\n",
      "<pre><code>insert into Produtos (coluna) values(1); DROP TABLE Produtos;\n",
      "</code></pre>\n",
      "\n",
      "<p>Ele vai inserir um novo registro cujo o campo <code>coluna</code> será <code>1</code> e logo em seguida ele vai deletar a tabela Produtos.</p>\n",
      "\n",
      "<p>Como posso melhorar meu código para prevenir essa situação?</p>\n",
      "\n"
     ]
    }
   ],
   "source": [
    "print(dados_portugues.Questão[5])"
   ]
  },
  {
   "cell_type": "code",
   "execution_count": 9,
   "id": "edad8648-f377-4f96-b845-d3eb91134151",
   "metadata": {},
   "outputs": [],
   "source": [
    "# é preciso limpar tags e trechos de códigos já que eles não são de interesse quando \n",
    "# se trabalha com linguagem"
   ]
  },
  {
   "cell_type": "markdown",
   "id": "186a0c23-173e-473d-b2a7-257ccc7708a7",
   "metadata": {},
   "source": [
    "## Regex Python"
   ]
  },
  {
   "cell_type": "code",
   "execution_count": 10,
   "id": "b6cce3ba-5033-45cb-8891-28731fa2fb6f",
   "metadata": {},
   "outputs": [],
   "source": [
    "import re"
   ]
  },
  {
   "cell_type": "code",
   "execution_count": 11,
   "id": "3b13d2a5-69be-4c21-937e-c4c3b5da4a89",
   "metadata": {},
   "outputs": [],
   "source": [
    "questoes_portugues = dados_portugues.Questão[5]\n",
    "questoes_espanhol = dados_espanhol.Questão[5]\n",
    "questoes_ingles = dados_ingles.Questão[5]"
   ]
  },
  {
   "cell_type": "code",
   "execution_count": 12,
   "id": "189c47e7-eabe-47a8-ad23-8e356d351fe1",
   "metadata": {},
   "outputs": [
    {
     "data": {
      "text/plain": [
       "\"<p>Desenvolvi uma página em PHP para uso interno da empresa que trabalho e apenas pouquíssimas pessoas a utilizam. Através dessa página é possível fazer algumas consultas, inserções, alterações e remoções de dados de uma tabela em um banco de dados MySQL, porém eu acredito que meu código em PHP não está protegido contra injeção de código SQL, por exemplo:</p>\\n\\n<pre><code>//----CONSULTA SQL----//\\n$busca = mysql_query ('insert into Produtos (coluna) values(' . $valor . ')');\\n</code></pre>\\n\\n<p>Logo, digamos que o usuário usar a sentença: <code>1); DROP TABLE Produtos;</code> para ao campo <code>valor</code> o comando ficaria: </p>\\n\\n<pre><code>insert into Produtos (coluna) values(1); DROP TABLE Produtos;\\n</code></pre>\\n\\n<p>Ele vai inserir um novo registro cujo o campo <code>coluna</code> será <code>1</code> e logo em seguida ele vai deletar a tabela Produtos.</p>\\n\\n<p>Como posso melhorar meu código para prevenir essa situação?</p>\\n\""
      ]
     },
     "execution_count": 12,
     "metadata": {},
     "output_type": "execute_result"
    }
   ],
   "source": [
    "questoes_portugues"
   ]
  },
  {
   "cell_type": "code",
   "execution_count": 13,
   "id": "4b248722-ede6-490d-b93a-70e04516ac75",
   "metadata": {},
   "outputs": [
    {
     "data": {
      "text/plain": [
       "['</p>', '</p>', '</p>', '</p>']"
      ]
     },
     "execution_count": 13,
     "metadata": {},
     "output_type": "execute_result"
    }
   ],
   "source": [
    "re.findall(r\"</p>\", questoes_portugues)"
   ]
  },
  {
   "cell_type": "code",
   "execution_count": 14,
   "id": "4b655da8-0177-4cdf-b66b-657ddf0d7327",
   "metadata": {},
   "outputs": [
    {
     "data": {
      "text/plain": [
       "['<p>',\n",
       " '</p>',\n",
       " '<pre>',\n",
       " '<code>',\n",
       " '</code>',\n",
       " '</pre>',\n",
       " '<p>',\n",
       " '<code>',\n",
       " '</code>',\n",
       " '<code>',\n",
       " '</code>',\n",
       " '</p>',\n",
       " '<pre>',\n",
       " '<code>',\n",
       " '</code>',\n",
       " '</pre>',\n",
       " '<p>',\n",
       " '<code>',\n",
       " '</code>',\n",
       " '<code>',\n",
       " '</code>',\n",
       " '</p>',\n",
       " '<p>',\n",
       " '</p>']"
      ]
     },
     "execution_count": 14,
     "metadata": {},
     "output_type": "execute_result"
    }
   ],
   "source": [
    "re.findall(r\"<.*?>\", questoes_portugues)"
   ]
  },
  {
   "cell_type": "code",
   "execution_count": 15,
   "id": "dcdc1540-fddf-443d-b5cb-c8875acbb1cb",
   "metadata": {},
   "outputs": [
    {
     "name": "stdout",
     "output_type": "stream",
     "text": [
      " T----E----S----T  Desenvolvi uma página em PHP para uso interno da empresa que trabalho e apenas pouquíssimas pessoas a utilizam. Através dessa página é possível fazer algumas consultas, inserções, alterações e remoções de dados de uma tabela em um banco de dados MySQL, porém eu acredito que meu código em PHP não está protegido contra injeção de código SQL, por exemplo: T----E----S----T  \n",
      "\n",
      " T----E----S----T   T----E----S----T  //----CONSULTA SQL----//\n",
      "$busca = mysql_query ('insert into Produtos (coluna) values(' . $valor . ')');\n",
      " T----E----S----T   T----E----S----T  \n",
      "\n",
      " T----E----S----T  Logo, digamos que o usuário usar a sentença:  T----E----S----T  1); DROP TABLE Produtos; T----E----S----T   para ao campo  T----E----S----T  valor T----E----S----T   o comando ficaria:  T----E----S----T  \n",
      "\n",
      " T----E----S----T   T----E----S----T  insert into Produtos (coluna) values(1); DROP TABLE Produtos;\n",
      " T----E----S----T   T----E----S----T  \n",
      "\n",
      " T----E----S----T  Ele vai inserir um novo registro cujo o campo  T----E----S----T  coluna T----E----S----T   será  T----E----S----T  1 T----E----S----T   e logo em seguida ele vai deletar a tabela Produtos. T----E----S----T  \n",
      "\n",
      " T----E----S----T  Como posso melhorar meu código para prevenir essa situação? T----E----S----T  \n",
      "\n"
     ]
    }
   ],
   "source": [
    "print(re.sub(r\"<.*?>\", \" T----E----S----T  \", questoes_portugues))"
   ]
  },
  {
   "cell_type": "markdown",
   "id": "67f5f9ea-6971-48a3-a282-45db0f790f24",
   "metadata": {},
   "source": [
    " ### Usando re.search and re.compile"
   ]
  },
  {
   "cell_type": "code",
   "execution_count": 16,
   "id": "24177b20-9c5a-46a3-9a48-d0e7b1f5c7a0",
   "metadata": {},
   "outputs": [
    {
     "data": {
      "text/plain": [
       "<re.Match object; span=(24, 26), match='70'>"
      ]
     },
     "execution_count": 16,
     "metadata": {},
     "output_type": "execute_result"
    }
   ],
   "source": [
    "# procurando por \"70\"dentro de uma string:\n",
    "re.search(r\"70\", \"12747473657634873847928370\")"
   ]
  },
  {
   "cell_type": "code",
   "execution_count": 17,
   "id": "eec4f96a-ea95-4dc7-b858-f200c446c1e7",
   "metadata": {},
   "outputs": [
    {
     "data": {
      "text/plain": [
       "<re.Match object; span=(24, 26), match='70'>"
      ]
     },
     "execution_count": 17,
     "metadata": {},
     "output_type": "execute_result"
    }
   ],
   "source": [
    "# usando re.compile\n",
    "regex = re.compile(r\"70\")\n",
    "regex.search(\"12747473657634873847928370\")\n"
   ]
  },
  {
   "cell_type": "code",
   "execution_count": 18,
   "id": "7412a40e-a2bb-4658-b995-e973a21443e9",
   "metadata": {},
   "outputs": [],
   "source": [
    "#### verificando eficiência de cada método"
   ]
  },
  {
   "cell_type": "code",
   "execution_count": 19,
   "id": "aecc486c-7d11-4292-b1f3-761c31d832f7",
   "metadata": {},
   "outputs": [],
   "source": [
    "from timeit import timeit"
   ]
  },
  {
   "cell_type": "code",
   "execution_count": 20,
   "id": "022dd9b2-f577-42be-9889-b688bdd25eff",
   "metadata": {},
   "outputs": [
    {
     "data": {
      "text/plain": [
       "0.4426095830000003"
      ]
     },
     "execution_count": 20,
     "metadata": {},
     "output_type": "execute_result"
    }
   ],
   "source": [
    "# eficiencia re.search:\n",
    "setup = \"\"\"import re\"\"\"\n",
    "timeit(\"\"\"re.search(r\"70\", \"12747473657634873847928370\")\"\"\", setup)\n",
    "\n",
    "# em cada uma das 1milhão de chamadas, o regex é criado "
   ]
  },
  {
   "cell_type": "code",
   "execution_count": 21,
   "id": "4cb852dd-3886-43c3-81a5-92f2486ed33a",
   "metadata": {},
   "outputs": [
    {
     "data": {
      "text/plain": [
       "0.10737487500000054"
      ]
     },
     "execution_count": 21,
     "metadata": {},
     "output_type": "execute_result"
    }
   ],
   "source": [
    "# eficiencia re.compile:\n",
    "setup = \"\"\"import re \n",
    "regex = re.compile(r\"70\")\"\"\"\n",
    "timeit(\"\"\"regex.search(\"12747473657634873847928370\")\"\"\", setup)\n",
    "\n",
    "# o regex é criado apenas uma vez e depois é chamado 1milhão de vezes"
   ]
  },
  {
   "cell_type": "code",
   "execution_count": 22,
   "id": "8d6a4d74-fd3b-42a4-8a5b-55199139fc68",
   "metadata": {},
   "outputs": [],
   "source": [
    "# o re.compile é 3x mais rápido para realizar funcões "
   ]
  },
  {
   "cell_type": "markdown",
   "id": "0ed39d30-a16f-4fd6-adcc-2c1184131993",
   "metadata": {},
   "source": [
    "### Regex: Tratamento dos dados"
   ]
  },
  {
   "cell_type": "code",
   "execution_count": 23,
   "id": "e5daec00-0d48-46c6-8b77-46500caea31e",
   "metadata": {},
   "outputs": [],
   "source": [
    "# criando funcão para limpar o texto:\n",
    "def remove(textos, regex):\n",
    "    if type(textos) == str:\n",
    "        return regex.sub(\"\", textos) # realiza substituição se for um texto\n",
    "    else:\n",
    "        return [regex.sub(\"\", texto) for texto in textos] #realiza substituição para todos os textos\n",
    "\n",
    "    "
   ]
  },
  {
   "cell_type": "code",
   "execution_count": 24,
   "id": "f9cc636c-5d97-4a88-8f18-9776c94b0aca",
   "metadata": {},
   "outputs": [
    {
     "name": "stdout",
     "output_type": "stream",
     "text": [
      "Desenvolvi uma página em PHP para uso interno da empresa que trabalho e apenas pouquíssimas pessoas a utilizam. Através dessa página é possível fazer algumas consultas, inserções, alterações e remoções de dados de uma tabela em um banco de dados MySQL, porém eu acredito que meu código em PHP não está protegido contra injeção de código SQL, por exemplo:\n",
      "\n",
      "//----CONSULTA SQL----//\n",
      "$busca = mysql_query ('insert into Produtos (coluna) values(' . $valor . ')');\n",
      "\n",
      "\n",
      "Logo, digamos que o usuário usar a sentença: 1); DROP TABLE Produtos; para ao campo valor o comando ficaria: \n",
      "\n",
      "insert into Produtos (coluna) values(1); DROP TABLE Produtos;\n",
      "\n",
      "\n",
      "Ele vai inserir um novo registro cujo o campo coluna será 1 e logo em seguida ele vai deletar a tabela Produtos.\n",
      "\n",
      "Como posso melhorar meu código para prevenir essa situação?\n",
      "\n"
     ]
    }
   ],
   "source": [
    "regex_html = re.compile(r\"<.*?>\")\n",
    "questao_sem_tag = remove(questoes_portugues, regex_html)\n",
    "print(questao_sem_tag)"
   ]
  },
  {
   "cell_type": "markdown",
   "id": "126f1b5c-f326-440a-a9c4-d8b38b28a6f6",
   "metadata": {},
   "source": [
    "#### Removendo trechos de código"
   ]
  },
  {
   "cell_type": "code",
   "execution_count": 25,
   "id": "6ad60e90-0d94-4e2a-8fa4-315552ac71ad",
   "metadata": {},
   "outputs": [],
   "source": [
    "  def sub_code(textos, regex):\n",
    "    if type(textos) == str:\n",
    "        return regex.sub(\"CODE\", textos) \n",
    "    else:\n",
    "        return [regex.sub(\"CODE\", texto) for texto in textos] \n"
   ]
  },
  {
   "cell_type": "code",
   "execution_count": 26,
   "id": "809a9b3a-af38-4331-be90-0d54446d9ca2",
   "metadata": {},
   "outputs": [],
   "source": [
    "regex_code = re.compile(r\"<code>(.|(\\n))*?</code>\") #() grupo \\n para considerar tambem quebra de linha\n"
   ]
  },
  {
   "cell_type": "code",
   "execution_count": 27,
   "id": "b9658618-06d8-4a7f-9dac-986a40395de9",
   "metadata": {},
   "outputs": [
    {
     "name": "stdout",
     "output_type": "stream",
     "text": [
      "<p>Desenvolvi uma página em PHP para uso interno da empresa que trabalho e apenas pouquíssimas pessoas a utilizam. Através dessa página é possível fazer algumas consultas, inserções, alterações e remoções de dados de uma tabela em um banco de dados MySQL, porém eu acredito que meu código em PHP não está protegido contra injeção de código SQL, por exemplo:</p>\n",
      "\n",
      "<pre>CODE</pre>\n",
      "\n",
      "<p>Logo, digamos que o usuário usar a sentença: CODE para ao campo CODE o comando ficaria: </p>\n",
      "\n",
      "<pre>CODE</pre>\n",
      "\n",
      "<p>Ele vai inserir um novo registro cujo o campo CODE será CODE e logo em seguida ele vai deletar a tabela Produtos.</p>\n",
      "\n",
      "<p>Como posso melhorar meu código para prevenir essa situação?</p>\n",
      "\n"
     ]
    }
   ],
   "source": [
    "question_no_code = sub_code(questoes_portugues, regex_code)\n",
    "print(question_no_code)"
   ]
  },
  {
   "cell_type": "markdown",
   "id": "854cc52a-6999-4f51-bf26-24d6bbf555da",
   "metadata": {},
   "source": [
    "### Tratando banco de dados"
   ]
  },
  {
   "cell_type": "code",
   "execution_count": 28,
   "id": "e35db80b-420c-4e84-9bf0-cb7c1b125636",
   "metadata": {},
   "outputs": [],
   "source": [
    "questoes_pt_no_code = sub_code(dados_portugues.Questão, regex_code)\n",
    "questoes_pt_no_code_tag = remove(questoes_pt_no_code, regex_html)\n",
    "dados_portugues['Sem_code_tag'] = questoes_pt_no_code_tag"
   ]
  },
  {
   "cell_type": "code",
   "execution_count": 29,
   "id": "31664625-b0b1-4d85-ba57-f94b176e7731",
   "metadata": {},
   "outputs": [
    {
     "data": {
      "text/html": [
       "<div>\n",
       "<style scoped>\n",
       "    .dataframe tbody tr th:only-of-type {\n",
       "        vertical-align: middle;\n",
       "    }\n",
       "\n",
       "    .dataframe tbody tr th {\n",
       "        vertical-align: top;\n",
       "    }\n",
       "\n",
       "    .dataframe thead th {\n",
       "        text-align: right;\n",
       "    }\n",
       "</style>\n",
       "<table border=\"1\" class=\"dataframe\">\n",
       "  <thead>\n",
       "    <tr style=\"text-align: right;\">\n",
       "      <th></th>\n",
       "      <th>Id</th>\n",
       "      <th>Título</th>\n",
       "      <th>Questão</th>\n",
       "      <th>Tags</th>\n",
       "      <th>Pontuação</th>\n",
       "      <th>Visualizações</th>\n",
       "      <th>Sem_code_tag</th>\n",
       "    </tr>\n",
       "  </thead>\n",
       "  <tbody>\n",
       "    <tr>\n",
       "      <th>0</th>\n",
       "      <td>2402</td>\n",
       "      <td>Como fazer hash de senhas de forma segura?</td>\n",
       "      <td>&lt;p&gt;Se eu fizer o &lt;em&gt;&lt;a href=\"http://pt.wikipe...</td>\n",
       "      <td>&lt;hash&gt;&lt;segurança&gt;&lt;senhas&gt;&lt;criptografia&gt;</td>\n",
       "      <td>350</td>\n",
       "      <td>22367</td>\n",
       "      <td>Se eu fizer o hash de senhas antes de armazená...</td>\n",
       "    </tr>\n",
       "    <tr>\n",
       "      <th>1</th>\n",
       "      <td>6441</td>\n",
       "      <td>Qual é a diferença entre INNER JOIN e OUTER JOIN?</td>\n",
       "      <td>&lt;p&gt;Qual é a diferença entre &lt;code&gt;INNER JOIN&lt;/...</td>\n",
       "      <td>&lt;sql&gt;&lt;join&gt;</td>\n",
       "      <td>276</td>\n",
       "      <td>176953</td>\n",
       "      <td>Qual é a diferença entre CODE e CODE? Podem me...</td>\n",
       "    </tr>\n",
       "    <tr>\n",
       "      <th>2</th>\n",
       "      <td>579</td>\n",
       "      <td>Por que não devemos usar funções do tipo mysql_*?</td>\n",
       "      <td>&lt;p&gt;Uma dúvida muito comum é por que devemos pa...</td>\n",
       "      <td>&lt;php&gt;&lt;mysql&gt;</td>\n",
       "      <td>226</td>\n",
       "      <td>9761</td>\n",
       "      <td>Uma dúvida muito comum é por que devemos parar...</td>\n",
       "    </tr>\n",
       "  </tbody>\n",
       "</table>\n",
       "</div>"
      ],
      "text/plain": [
       "     Id                                             Título  \\\n",
       "0  2402         Como fazer hash de senhas de forma segura?   \n",
       "1  6441  Qual é a diferença entre INNER JOIN e OUTER JOIN?   \n",
       "2   579  Por que não devemos usar funções do tipo mysql_*?   \n",
       "\n",
       "                                             Questão  \\\n",
       "0  <p>Se eu fizer o <em><a href=\"http://pt.wikipe...   \n",
       "1  <p>Qual é a diferença entre <code>INNER JOIN</...   \n",
       "2  <p>Uma dúvida muito comum é por que devemos pa...   \n",
       "\n",
       "                                      Tags  Pontuação  Visualizações  \\\n",
       "0  <hash><segurança><senhas><criptografia>        350          22367   \n",
       "1                              <sql><join>        276         176953   \n",
       "2                             <php><mysql>        226           9761   \n",
       "\n",
       "                                        Sem_code_tag  \n",
       "0  Se eu fizer o hash de senhas antes de armazená...  \n",
       "1  Qual é a diferença entre CODE e CODE? Podem me...  \n",
       "2  Uma dúvida muito comum é por que devemos parar...  "
      ]
     },
     "execution_count": 29,
     "metadata": {},
     "output_type": "execute_result"
    }
   ],
   "source": [
    "dados_portugues.head(3)"
   ]
  },
  {
   "cell_type": "code",
   "execution_count": 30,
   "id": "c331b2b3-a3bc-4e7d-a981-9988c5bd20be",
   "metadata": {},
   "outputs": [],
   "source": [
    "questoes_en_no_code = sub_code(dados_ingles.Questão, regex_code)\n",
    "questoes_en_no_code_tag = remove(questoes_en_no_code, regex_html)\n",
    "dados_ingles['Sem_code_tag'] = questoes_en_no_code_tag"
   ]
  },
  {
   "cell_type": "code",
   "execution_count": 31,
   "id": "90723aba-3a43-485a-9db7-09ff3f49c02c",
   "metadata": {},
   "outputs": [
    {
     "data": {
      "text/html": [
       "<div>\n",
       "<style scoped>\n",
       "    .dataframe tbody tr th:only-of-type {\n",
       "        vertical-align: middle;\n",
       "    }\n",
       "\n",
       "    .dataframe tbody tr th {\n",
       "        vertical-align: top;\n",
       "    }\n",
       "\n",
       "    .dataframe thead th {\n",
       "        text-align: right;\n",
       "    }\n",
       "</style>\n",
       "<table border=\"1\" class=\"dataframe\">\n",
       "  <thead>\n",
       "    <tr style=\"text-align: right;\">\n",
       "      <th></th>\n",
       "      <th>Id</th>\n",
       "      <th>Título</th>\n",
       "      <th>Questão</th>\n",
       "      <th>Tags</th>\n",
       "      <th>Pontuação</th>\n",
       "      <th>Visualizações</th>\n",
       "      <th>Sem_code_tag</th>\n",
       "    </tr>\n",
       "  </thead>\n",
       "  <tbody>\n",
       "    <tr>\n",
       "      <th>0</th>\n",
       "      <td>11227809</td>\n",
       "      <td>Why is it faster to process a sorted array tha...</td>\n",
       "      <td>&lt;p&gt;Here is a piece of C++ code that seems very...</td>\n",
       "      <td>&lt;java&gt;&lt;c++&gt;&lt;performance&gt;&lt;optimization&gt;&lt;branch-...</td>\n",
       "      <td>23057</td>\n",
       "      <td>1358574</td>\n",
       "      <td>Here is a piece of C++ code that seems very pe...</td>\n",
       "    </tr>\n",
       "    <tr>\n",
       "      <th>1</th>\n",
       "      <td>927358</td>\n",
       "      <td>How do I undo the most recent local commits in...</td>\n",
       "      <td>&lt;p&gt;I accidentally committed the wrong files to...</td>\n",
       "      <td>&lt;git&gt;&lt;version-control&gt;&lt;git-commit&gt;&lt;undo&gt;</td>\n",
       "      <td>19640</td>\n",
       "      <td>7906137</td>\n",
       "      <td>I accidentally committed the wrong files to Gi...</td>\n",
       "    </tr>\n",
       "    <tr>\n",
       "      <th>2</th>\n",
       "      <td>2003505</td>\n",
       "      <td>How do I delete a Git branch locally and remot...</td>\n",
       "      <td>&lt;p&gt;I want to delete a branch both locally and ...</td>\n",
       "      <td>&lt;git&gt;&lt;git-branch&gt;&lt;git-remote&gt;</td>\n",
       "      <td>15249</td>\n",
       "      <td>6940906</td>\n",
       "      <td>I want to delete a branch both locally and rem...</td>\n",
       "    </tr>\n",
       "  </tbody>\n",
       "</table>\n",
       "</div>"
      ],
      "text/plain": [
       "         Id                                             Título  \\\n",
       "0  11227809  Why is it faster to process a sorted array tha...   \n",
       "1    927358  How do I undo the most recent local commits in...   \n",
       "2   2003505  How do I delete a Git branch locally and remot...   \n",
       "\n",
       "                                             Questão  \\\n",
       "0  <p>Here is a piece of C++ code that seems very...   \n",
       "1  <p>I accidentally committed the wrong files to...   \n",
       "2  <p>I want to delete a branch both locally and ...   \n",
       "\n",
       "                                                Tags  Pontuação  \\\n",
       "0  <java><c++><performance><optimization><branch-...      23057   \n",
       "1           <git><version-control><git-commit><undo>      19640   \n",
       "2                      <git><git-branch><git-remote>      15249   \n",
       "\n",
       "   Visualizações                                       Sem_code_tag  \n",
       "0        1358574  Here is a piece of C++ code that seems very pe...  \n",
       "1        7906137  I accidentally committed the wrong files to Gi...  \n",
       "2        6940906  I want to delete a branch both locally and rem...  "
      ]
     },
     "execution_count": 31,
     "metadata": {},
     "output_type": "execute_result"
    }
   ],
   "source": [
    "dados_ingles.head(3)"
   ]
  },
  {
   "cell_type": "code",
   "execution_count": 32,
   "id": "71cbe889-f0b2-4602-a481-5c501de1526e",
   "metadata": {},
   "outputs": [],
   "source": [
    "questoes_es_no_code = sub_code(dados_espanhol.Questão, regex_code)\n",
    "questoes_es_no_code_tag = remove(questoes_es_no_code, regex_html)\n",
    "dados_espanhol['Sem_code_tag'] = questoes_es_no_code_tag"
   ]
  },
  {
   "cell_type": "code",
   "execution_count": 33,
   "id": "64dc57a0-d800-4187-8d03-db98bcb10b08",
   "metadata": {},
   "outputs": [
    {
     "data": {
      "text/html": [
       "<div>\n",
       "<style scoped>\n",
       "    .dataframe tbody tr th:only-of-type {\n",
       "        vertical-align: middle;\n",
       "    }\n",
       "\n",
       "    .dataframe tbody tr th {\n",
       "        vertical-align: top;\n",
       "    }\n",
       "\n",
       "    .dataframe thead th {\n",
       "        text-align: right;\n",
       "    }\n",
       "</style>\n",
       "<table border=\"1\" class=\"dataframe\">\n",
       "  <thead>\n",
       "    <tr style=\"text-align: right;\">\n",
       "      <th></th>\n",
       "      <th>Id</th>\n",
       "      <th>Título</th>\n",
       "      <th>Questão</th>\n",
       "      <th>Tags</th>\n",
       "      <th>Pontuação</th>\n",
       "      <th>Visualizações</th>\n",
       "      <th>Sem_code_tag</th>\n",
       "    </tr>\n",
       "  </thead>\n",
       "  <tbody>\n",
       "    <tr>\n",
       "      <th>0</th>\n",
       "      <td>18232</td>\n",
       "      <td>¿Cómo evitar la inyección SQL en PHP?</td>\n",
       "      <td>&lt;p&gt;Las sentencias dinámicas son sentencias SQL...</td>\n",
       "      <td>&lt;php&gt;&lt;mysql&gt;&lt;sql&gt;&lt;seguridad&gt;&lt;inyección-sql&gt;</td>\n",
       "      <td>169</td>\n",
       "      <td>38614</td>\n",
       "      <td>Las sentencias dinámicas son sentencias SQL qu...</td>\n",
       "    </tr>\n",
       "    <tr>\n",
       "      <th>1</th>\n",
       "      <td>197</td>\n",
       "      <td>¿Por qué mis programas no pueden hacer cálculo...</td>\n",
       "      <td>&lt;p&gt;Unas veces los cálculos funcionan correctam...</td>\n",
       "      <td>&lt;matemáticas&gt;&lt;coma-flotante&gt;&lt;lenguaje-agnóstico&gt;</td>\n",
       "      <td>141</td>\n",
       "      <td>3860</td>\n",
       "      <td>Unas veces los cálculos funcionan correctament...</td>\n",
       "    </tr>\n",
       "    <tr>\n",
       "      <th>2</th>\n",
       "      <td>36</td>\n",
       "      <td>¿Cuál es la diferencia entre un inner y un out...</td>\n",
       "      <td>&lt;p&gt;¿Cuál es la diferencia entre un &lt;code&gt;inner...</td>\n",
       "      <td>&lt;mysql&gt;&lt;sql&gt;&lt;join&gt;</td>\n",
       "      <td>97</td>\n",
       "      <td>53627</td>\n",
       "      <td>¿Cuál es la diferencia entre un CODE y un CODE...</td>\n",
       "    </tr>\n",
       "  </tbody>\n",
       "</table>\n",
       "</div>"
      ],
      "text/plain": [
       "      Id                                             Título  \\\n",
       "0  18232              ¿Cómo evitar la inyección SQL en PHP?   \n",
       "1    197  ¿Por qué mis programas no pueden hacer cálculo...   \n",
       "2     36  ¿Cuál es la diferencia entre un inner y un out...   \n",
       "\n",
       "                                             Questão  \\\n",
       "0  <p>Las sentencias dinámicas son sentencias SQL...   \n",
       "1  <p>Unas veces los cálculos funcionan correctam...   \n",
       "2  <p>¿Cuál es la diferencia entre un <code>inner...   \n",
       "\n",
       "                                               Tags  Pontuação  Visualizações  \\\n",
       "0       <php><mysql><sql><seguridad><inyección-sql>        169          38614   \n",
       "1  <matemáticas><coma-flotante><lenguaje-agnóstico>        141           3860   \n",
       "2                                <mysql><sql><join>         97          53627   \n",
       "\n",
       "                                        Sem_code_tag  \n",
       "0  Las sentencias dinámicas son sentencias SQL qu...  \n",
       "1  Unas veces los cálculos funcionan correctament...  \n",
       "2  ¿Cuál es la diferencia entre un CODE y un CODE...  "
      ]
     },
     "execution_count": 33,
     "metadata": {},
     "output_type": "execute_result"
    }
   ],
   "source": [
    "dados_espanhol.head(3)"
   ]
  },
  {
   "cell_type": "markdown",
   "id": "15a71603-bb78-4751-ad45-7e0dfcb2d4f7",
   "metadata": {},
   "source": [
    "## <green> Refinando tratamento </green> "
   ]
  },
  {
   "cell_type": "markdown",
   "id": "1cb05e3c-4ee6-44ec-a0e3-e6bd3d8eee0e",
   "metadata": {},
   "source": [
    "#### Removendo pontuação"
   ]
  },
  {
   "cell_type": "code",
   "execution_count": 98,
   "id": "ac8e325e-4dbd-4438-aaf4-62cfc7cc3f60",
   "metadata": {},
   "outputs": [
    {
     "name": "stdout",
     "output_type": "stream",
     "text": [
      "Se eu fizer o hash de senhas antes de armazená-las em meu banco de dados é suficiente para evitar que elas sejam recuperadas por alguém?\n",
      "\n",
      "Estou falando apenas da recuperação diretamente do banco de dados e não qualquer outro tipo de ataque, como força bruta na página de login da aplicação, keylogger no cliente e criptoanálise rubberhose. Qualquer forma de hash não vai impedir esses ataques.\n",
      "\n",
      "Tenho preocupação em dificultar ou até impossibilitar a obtenção das senhas originais caso o banco de dados seja comprometido. Como dar maior garantia de segurança neste aspecto?\n",
      "\n",
      "Quais preocupações adicionais evitariam o acesso às senhas? Existem formas melhores de fazer esse hash?\n",
      "\n"
     ]
    }
   ],
   "source": [
    "regex_pont = re.compile(r\"ˆ\\W\\s\")\n",
    "print(remove(questoes_pt_no_code_tag[0], regex_pont))"
   ]
  },
  {
   "cell_type": "markdown",
   "id": "964b14d6-2056-4285-92e0-595eb6d19670",
   "metadata": {},
   "source": [
    "#### Passando texto para minúsculo"
   ]
  },
  {
   "cell_type": "code",
   "execution_count": 99,
   "id": "6c64b597-313c-4448-96ea-b5eab70fb78c",
   "metadata": {},
   "outputs": [],
   "source": [
    "def min(textos):\n",
    "    if type(textos) == str:\n",
    "        return textos.lower()\n",
    "    else:\n",
    "        return [texto.lower() for texto in textos]"
   ]
  },
  {
   "cell_type": "markdown",
   "id": "10e0f617-c0a8-43f1-bd2d-c3ea0a430fec",
   "metadata": {},
   "source": [
    "#### Removendo dígitos"
   ]
  },
  {
   "cell_type": "code",
   "execution_count": 100,
   "id": "7755032b-1721-470d-a7e7-89dbd9b0f982",
   "metadata": {},
   "outputs": [],
   "source": [
    "regex_dig = re.compile(r\"\\d\")"
   ]
  },
  {
   "cell_type": "markdown",
   "id": "c463f817-dff9-47e4-9c28-7868dfd59459",
   "metadata": {},
   "source": [
    "#### Removendo espaço"
   ]
  },
  {
   "cell_type": "code",
   "execution_count": 101,
   "id": "eb91d9f0-1419-47bd-be6e-e81443e83d69",
   "metadata": {},
   "outputs": [],
   "source": [
    "regex_espaco = re.compile(r\" +\")\n",
    "\n",
    "def sub_for_space(textos, regex):\n",
    "    if type(textos) == str:\n",
    "        return regex.sub(\" \", textos)\n",
    "    else:\n",
    "        return [regex.sub(\" \", texto) for texto in textos] "
   ]
  },
  {
   "cell_type": "markdown",
   "id": "43e889ef-51f0-4ceb-9fb4-bb22c9117de1",
   "metadata": {},
   "source": [
    "#### Removendo quebra de linha"
   ]
  },
  {
   "cell_type": "code",
   "execution_count": 102,
   "id": "0d0ee984-7a80-4a7f-a304-998c10d8bf87",
   "metadata": {},
   "outputs": [],
   "source": [
    "regex_quebra_linha = re.compile(r\"(\\n)\")"
   ]
  },
  {
   "cell_type": "markdown",
   "id": "d0ee2a0e-85b2-4ff0-ae1f-7c380406d818",
   "metadata": {},
   "source": [
    "## Aplicando funções ao banco de dados"
   ]
  },
  {
   "cell_type": "code",
   "execution_count": 103,
   "id": "d4672a98-ae38-45ba-8359-0b77cd61fa57",
   "metadata": {},
   "outputs": [],
   "source": [
    "questoes_pt_no_pont = remove(dados_portugues.Sem_code_tag, regex_pont)\n",
    "questoes_pt_no_pont_minus = min(questoes_pt_no_pont)\n",
    "questoes_pt_no_pont_minus_dig = remove(questoes_pt_no_pont_minus, regex_dig)\n",
    "questoes_pt_n_s_q = sub_for_space(questoes_pt_no_pont_minus_dig, regex_quebra_linha) \n",
    "questoes_pt_no_space = sub_for_space(questoes_pt_n_s_q, regex_espaco)\n"
   ]
  },
  {
   "cell_type": "code",
   "execution_count": 104,
   "id": "c4f581ae-ceb3-41fa-a6a8-c2a2166dd342",
   "metadata": {},
   "outputs": [],
   "source": [
    "dados_portugues['questoes_tratadas'] = questoes_pt_no_space"
   ]
  },
  {
   "cell_type": "code",
   "execution_count": 105,
   "id": "4e6578aa-2066-4aab-97f0-be0fc6715356",
   "metadata": {},
   "outputs": [
    {
     "data": {
      "text/html": [
       "<div>\n",
       "<style scoped>\n",
       "    .dataframe tbody tr th:only-of-type {\n",
       "        vertical-align: middle;\n",
       "    }\n",
       "\n",
       "    .dataframe tbody tr th {\n",
       "        vertical-align: top;\n",
       "    }\n",
       "\n",
       "    .dataframe thead th {\n",
       "        text-align: right;\n",
       "    }\n",
       "</style>\n",
       "<table border=\"1\" class=\"dataframe\">\n",
       "  <thead>\n",
       "    <tr style=\"text-align: right;\">\n",
       "      <th></th>\n",
       "      <th>Id</th>\n",
       "      <th>Título</th>\n",
       "      <th>Questão</th>\n",
       "      <th>Tags</th>\n",
       "      <th>Pontuação</th>\n",
       "      <th>Visualizações</th>\n",
       "      <th>Sem_code_tag</th>\n",
       "      <th>questoes_tratadas</th>\n",
       "    </tr>\n",
       "  </thead>\n",
       "  <tbody>\n",
       "    <tr>\n",
       "      <th>0</th>\n",
       "      <td>2402</td>\n",
       "      <td>Como fazer hash de senhas de forma segura?</td>\n",
       "      <td>&lt;p&gt;Se eu fizer o &lt;em&gt;&lt;a href=\"http://pt.wikipe...</td>\n",
       "      <td>&lt;hash&gt;&lt;segurança&gt;&lt;senhas&gt;&lt;criptografia&gt;</td>\n",
       "      <td>350</td>\n",
       "      <td>22367</td>\n",
       "      <td>Se eu fizer o hash de senhas antes de armazená...</td>\n",
       "      <td>se eu fizer o hash de senhas antes de armazená...</td>\n",
       "    </tr>\n",
       "    <tr>\n",
       "      <th>1</th>\n",
       "      <td>6441</td>\n",
       "      <td>Qual é a diferença entre INNER JOIN e OUTER JOIN?</td>\n",
       "      <td>&lt;p&gt;Qual é a diferença entre &lt;code&gt;INNER JOIN&lt;/...</td>\n",
       "      <td>&lt;sql&gt;&lt;join&gt;</td>\n",
       "      <td>276</td>\n",
       "      <td>176953</td>\n",
       "      <td>Qual é a diferença entre CODE e CODE? Podem me...</td>\n",
       "      <td>qual é a diferença entre code e code? podem me...</td>\n",
       "    </tr>\n",
       "    <tr>\n",
       "      <th>2</th>\n",
       "      <td>579</td>\n",
       "      <td>Por que não devemos usar funções do tipo mysql_*?</td>\n",
       "      <td>&lt;p&gt;Uma dúvida muito comum é por que devemos pa...</td>\n",
       "      <td>&lt;php&gt;&lt;mysql&gt;</td>\n",
       "      <td>226</td>\n",
       "      <td>9761</td>\n",
       "      <td>Uma dúvida muito comum é por que devemos parar...</td>\n",
       "      <td>uma dúvida muito comum é por que devemos parar...</td>\n",
       "    </tr>\n",
       "  </tbody>\n",
       "</table>\n",
       "</div>"
      ],
      "text/plain": [
       "     Id                                             Título  \\\n",
       "0  2402         Como fazer hash de senhas de forma segura?   \n",
       "1  6441  Qual é a diferença entre INNER JOIN e OUTER JOIN?   \n",
       "2   579  Por que não devemos usar funções do tipo mysql_*?   \n",
       "\n",
       "                                             Questão  \\\n",
       "0  <p>Se eu fizer o <em><a href=\"http://pt.wikipe...   \n",
       "1  <p>Qual é a diferença entre <code>INNER JOIN</...   \n",
       "2  <p>Uma dúvida muito comum é por que devemos pa...   \n",
       "\n",
       "                                      Tags  Pontuação  Visualizações  \\\n",
       "0  <hash><segurança><senhas><criptografia>        350          22367   \n",
       "1                              <sql><join>        276         176953   \n",
       "2                             <php><mysql>        226           9761   \n",
       "\n",
       "                                        Sem_code_tag  \\\n",
       "0  Se eu fizer o hash de senhas antes de armazená...   \n",
       "1  Qual é a diferença entre CODE e CODE? Podem me...   \n",
       "2  Uma dúvida muito comum é por que devemos parar...   \n",
       "\n",
       "                                   questoes_tratadas  \n",
       "0  se eu fizer o hash de senhas antes de armazená...  \n",
       "1  qual é a diferença entre code e code? podem me...  \n",
       "2  uma dúvida muito comum é por que devemos parar...  "
      ]
     },
     "execution_count": 105,
     "metadata": {},
     "output_type": "execute_result"
    }
   ],
   "source": [
    "dados_portugues.head(3)"
   ]
  },
  {
   "cell_type": "code",
   "execution_count": 106,
   "id": "72d0c27b-3322-46c5-b011-7735ae7f3564",
   "metadata": {},
   "outputs": [
    {
     "data": {
      "text/plain": [
       "'se eu fizer o hash de senhas antes de armazená-las em meu banco de dados é suficiente para evitar que elas sejam recuperadas por alguém? estou falando apenas da recuperação diretamente do banco de dados e não qualquer outro tipo de ataque, como força bruta na página de login da aplicação, keylogger no cliente e criptoanálise rubberhose. qualquer forma de hash não vai impedir esses ataques. tenho preocupação em dificultar ou até impossibilitar a obtenção das senhas originais caso o banco de dados seja comprometido. como dar maior garantia de segurança neste aspecto? quais preocupações adicionais evitariam o acesso às senhas? existem formas melhores de fazer esse hash? '"
      ]
     },
     "execution_count": 106,
     "metadata": {},
     "output_type": "execute_result"
    }
   ],
   "source": [
    "dados_portugues.questoes_tratadas[0]"
   ]
  },
  {
   "cell_type": "code",
   "execution_count": 111,
   "id": "3c4eecc4-8db2-43bb-a988-d754c6c36d4e",
   "metadata": {},
   "outputs": [],
   "source": [
    "questoes_en_no_pont = remove(dados_ingles.Sem_code_tag, regex_pont)\n",
    "questoes_en_no_pont_minus = min(questoes_en_no_pont)\n",
    "questoes_en_no_pont_minus_dig = remove(questoes_en_no_pont_minus, regex_dig)\n",
    "questoes_en_n_s_q = sub_for_space(questoes_en_no_pont_minus_dig, regex_quebra_linha) \n",
    "questoes_en_no_space = sub_for_space(questoes_en_n_s_q, regex_espaco)"
   ]
  },
  {
   "cell_type": "code",
   "execution_count": 114,
   "id": "86fee289-a31e-4bc8-8358-327a9bc70e08",
   "metadata": {},
   "outputs": [],
   "source": [
    "dados_ingles['questoes_tratadas'] = questoes_en_no_space"
   ]
  },
  {
   "cell_type": "code",
   "execution_count": 115,
   "id": "adbbd3d0-ea9e-4cbf-9f25-498662688c66",
   "metadata": {},
   "outputs": [
    {
     "data": {
      "text/html": [
       "<div>\n",
       "<style scoped>\n",
       "    .dataframe tbody tr th:only-of-type {\n",
       "        vertical-align: middle;\n",
       "    }\n",
       "\n",
       "    .dataframe tbody tr th {\n",
       "        vertical-align: top;\n",
       "    }\n",
       "\n",
       "    .dataframe thead th {\n",
       "        text-align: right;\n",
       "    }\n",
       "</style>\n",
       "<table border=\"1\" class=\"dataframe\">\n",
       "  <thead>\n",
       "    <tr style=\"text-align: right;\">\n",
       "      <th></th>\n",
       "      <th>Id</th>\n",
       "      <th>Título</th>\n",
       "      <th>Questão</th>\n",
       "      <th>Tags</th>\n",
       "      <th>Pontuação</th>\n",
       "      <th>Visualizações</th>\n",
       "      <th>Sem_code_tag</th>\n",
       "      <th>questoes_tratadas</th>\n",
       "    </tr>\n",
       "  </thead>\n",
       "  <tbody>\n",
       "    <tr>\n",
       "      <th>0</th>\n",
       "      <td>11227809</td>\n",
       "      <td>Why is it faster to process a sorted array tha...</td>\n",
       "      <td>&lt;p&gt;Here is a piece of C++ code that seems very...</td>\n",
       "      <td>&lt;java&gt;&lt;c++&gt;&lt;performance&gt;&lt;optimization&gt;&lt;branch-...</td>\n",
       "      <td>23057</td>\n",
       "      <td>1358574</td>\n",
       "      <td>Here is a piece of C++ code that seems very pe...</td>\n",
       "      <td>here is a piece of c++ code that seems very pe...</td>\n",
       "    </tr>\n",
       "    <tr>\n",
       "      <th>1</th>\n",
       "      <td>927358</td>\n",
       "      <td>How do I undo the most recent local commits in...</td>\n",
       "      <td>&lt;p&gt;I accidentally committed the wrong files to...</td>\n",
       "      <td>&lt;git&gt;&lt;version-control&gt;&lt;git-commit&gt;&lt;undo&gt;</td>\n",
       "      <td>19640</td>\n",
       "      <td>7906137</td>\n",
       "      <td>I accidentally committed the wrong files to Gi...</td>\n",
       "      <td>i accidentally committed the wrong files to gi...</td>\n",
       "    </tr>\n",
       "    <tr>\n",
       "      <th>2</th>\n",
       "      <td>2003505</td>\n",
       "      <td>How do I delete a Git branch locally and remot...</td>\n",
       "      <td>&lt;p&gt;I want to delete a branch both locally and ...</td>\n",
       "      <td>&lt;git&gt;&lt;git-branch&gt;&lt;git-remote&gt;</td>\n",
       "      <td>15249</td>\n",
       "      <td>6940906</td>\n",
       "      <td>I want to delete a branch both locally and rem...</td>\n",
       "      <td>i want to delete a branch both locally and rem...</td>\n",
       "    </tr>\n",
       "  </tbody>\n",
       "</table>\n",
       "</div>"
      ],
      "text/plain": [
       "         Id                                             Título  \\\n",
       "0  11227809  Why is it faster to process a sorted array tha...   \n",
       "1    927358  How do I undo the most recent local commits in...   \n",
       "2   2003505  How do I delete a Git branch locally and remot...   \n",
       "\n",
       "                                             Questão  \\\n",
       "0  <p>Here is a piece of C++ code that seems very...   \n",
       "1  <p>I accidentally committed the wrong files to...   \n",
       "2  <p>I want to delete a branch both locally and ...   \n",
       "\n",
       "                                                Tags  Pontuação  \\\n",
       "0  <java><c++><performance><optimization><branch-...      23057   \n",
       "1           <git><version-control><git-commit><undo>      19640   \n",
       "2                      <git><git-branch><git-remote>      15249   \n",
       "\n",
       "   Visualizações                                       Sem_code_tag  \\\n",
       "0        1358574  Here is a piece of C++ code that seems very pe...   \n",
       "1        7906137  I accidentally committed the wrong files to Gi...   \n",
       "2        6940906  I want to delete a branch both locally and rem...   \n",
       "\n",
       "                                   questoes_tratadas  \n",
       "0  here is a piece of c++ code that seems very pe...  \n",
       "1  i accidentally committed the wrong files to gi...  \n",
       "2  i want to delete a branch both locally and rem...  "
      ]
     },
     "execution_count": 115,
     "metadata": {},
     "output_type": "execute_result"
    }
   ],
   "source": [
    "dados_ingles.head(3)"
   ]
  },
  {
   "cell_type": "code",
   "execution_count": 116,
   "id": "0c381174-8010-48e4-8cc8-2b8e60b382a3",
   "metadata": {},
   "outputs": [
    {
     "data": {
      "text/plain": [
       "'here is a piece of c++ code that seems very peculiar. for some strange reason, sorting the data miraculously makes the code almost six times faster. code without code, the code runs in . seconds. with the sorted data, the code runs in . seconds. initially, i thought this might be just a language or compiler anomaly. so i tried it in java. code with a somewhat similar but less extreme result. my first thought was that sorting brings the data into the cache, but then i thought how silly that is because the array was just generated. what is going on? why is it faster to process a sorted array than an unsorted array? the code is summing up some independent terms, and the order should not matter. '"
      ]
     },
     "execution_count": 116,
     "metadata": {},
     "output_type": "execute_result"
    }
   ],
   "source": [
    "dados_ingles.questoes_tratadas[0]"
   ]
  },
  {
   "cell_type": "code",
   "execution_count": 117,
   "id": "af100e31-851a-4cd5-a13f-5b9516f2a37a",
   "metadata": {},
   "outputs": [],
   "source": [
    "questoes_es_no_pont = remove(dados_espanhol.Sem_code_tag, regex_pont)\n",
    "questoes_es_no_pont_minus = min(questoes_es_no_pont)\n",
    "questoes_es_no_pont_minus_dig = remove(questoes_es_no_pont_minus, regex_dig)\n",
    "questoes_es_n_s_q = sub_for_space(questoes_es_no_pont_minus_dig, regex_quebra_linha) \n",
    "questoes_es_no_space = sub_for_space(questoes_es_n_s_q, regex_espaco)"
   ]
  },
  {
   "cell_type": "code",
   "execution_count": 119,
   "id": "7c545db3-94b9-4e3d-9818-75c916d3dbd7",
   "metadata": {},
   "outputs": [],
   "source": [
    "dados_espanhol['questoes_tratadas'] = questoes_es_no_space"
   ]
  },
  {
   "cell_type": "code",
   "execution_count": 120,
   "id": "3dee1fe2-1de1-4b12-8fc8-4b6e393c7003",
   "metadata": {},
   "outputs": [
    {
     "data": {
      "text/html": [
       "<div>\n",
       "<style scoped>\n",
       "    .dataframe tbody tr th:only-of-type {\n",
       "        vertical-align: middle;\n",
       "    }\n",
       "\n",
       "    .dataframe tbody tr th {\n",
       "        vertical-align: top;\n",
       "    }\n",
       "\n",
       "    .dataframe thead th {\n",
       "        text-align: right;\n",
       "    }\n",
       "</style>\n",
       "<table border=\"1\" class=\"dataframe\">\n",
       "  <thead>\n",
       "    <tr style=\"text-align: right;\">\n",
       "      <th></th>\n",
       "      <th>Id</th>\n",
       "      <th>Título</th>\n",
       "      <th>Questão</th>\n",
       "      <th>Tags</th>\n",
       "      <th>Pontuação</th>\n",
       "      <th>Visualizações</th>\n",
       "      <th>Sem_code_tag</th>\n",
       "      <th>questoes_tratadas</th>\n",
       "    </tr>\n",
       "  </thead>\n",
       "  <tbody>\n",
       "    <tr>\n",
       "      <th>0</th>\n",
       "      <td>18232</td>\n",
       "      <td>¿Cómo evitar la inyección SQL en PHP?</td>\n",
       "      <td>&lt;p&gt;Las sentencias dinámicas son sentencias SQL...</td>\n",
       "      <td>&lt;php&gt;&lt;mysql&gt;&lt;sql&gt;&lt;seguridad&gt;&lt;inyección-sql&gt;</td>\n",
       "      <td>169</td>\n",
       "      <td>38614</td>\n",
       "      <td>Las sentencias dinámicas son sentencias SQL qu...</td>\n",
       "      <td>las sentencias dinámicas son sentencias sql qu...</td>\n",
       "    </tr>\n",
       "    <tr>\n",
       "      <th>1</th>\n",
       "      <td>197</td>\n",
       "      <td>¿Por qué mis programas no pueden hacer cálculo...</td>\n",
       "      <td>&lt;p&gt;Unas veces los cálculos funcionan correctam...</td>\n",
       "      <td>&lt;matemáticas&gt;&lt;coma-flotante&gt;&lt;lenguaje-agnóstico&gt;</td>\n",
       "      <td>141</td>\n",
       "      <td>3860</td>\n",
       "      <td>Unas veces los cálculos funcionan correctament...</td>\n",
       "      <td>unas veces los cálculos funcionan correctament...</td>\n",
       "    </tr>\n",
       "    <tr>\n",
       "      <th>2</th>\n",
       "      <td>36</td>\n",
       "      <td>¿Cuál es la diferencia entre un inner y un out...</td>\n",
       "      <td>&lt;p&gt;¿Cuál es la diferencia entre un &lt;code&gt;inner...</td>\n",
       "      <td>&lt;mysql&gt;&lt;sql&gt;&lt;join&gt;</td>\n",
       "      <td>97</td>\n",
       "      <td>53627</td>\n",
       "      <td>¿Cuál es la diferencia entre un CODE y un CODE...</td>\n",
       "      <td>¿cuál es la diferencia entre un code y un code...</td>\n",
       "    </tr>\n",
       "  </tbody>\n",
       "</table>\n",
       "</div>"
      ],
      "text/plain": [
       "      Id                                             Título  \\\n",
       "0  18232              ¿Cómo evitar la inyección SQL en PHP?   \n",
       "1    197  ¿Por qué mis programas no pueden hacer cálculo...   \n",
       "2     36  ¿Cuál es la diferencia entre un inner y un out...   \n",
       "\n",
       "                                             Questão  \\\n",
       "0  <p>Las sentencias dinámicas son sentencias SQL...   \n",
       "1  <p>Unas veces los cálculos funcionan correctam...   \n",
       "2  <p>¿Cuál es la diferencia entre un <code>inner...   \n",
       "\n",
       "                                               Tags  Pontuação  Visualizações  \\\n",
       "0       <php><mysql><sql><seguridad><inyección-sql>        169          38614   \n",
       "1  <matemáticas><coma-flotante><lenguaje-agnóstico>        141           3860   \n",
       "2                                <mysql><sql><join>         97          53627   \n",
       "\n",
       "                                        Sem_code_tag  \\\n",
       "0  Las sentencias dinámicas son sentencias SQL qu...   \n",
       "1  Unas veces los cálculos funcionan correctament...   \n",
       "2  ¿Cuál es la diferencia entre un CODE y un CODE...   \n",
       "\n",
       "                                   questoes_tratadas  \n",
       "0  las sentencias dinámicas son sentencias sql qu...  \n",
       "1  unas veces los cálculos funcionan correctament...  \n",
       "2  ¿cuál es la diferencia entre un code y un code...  "
      ]
     },
     "execution_count": 120,
     "metadata": {},
     "output_type": "execute_result"
    }
   ],
   "source": [
    "dados_espanhol.head(3)"
   ]
  },
  {
   "cell_type": "code",
   "execution_count": 121,
   "id": "a31b7959-2ba2-4242-b6ef-ed55073669cb",
   "metadata": {},
   "outputs": [
    {
     "data": {
      "text/plain": [
       "'las sentencias dinámicas son sentencias sql que se crean como cadenas de texto (strings) y en las que se insertan/concatenan valores obtenidos de alguna fuente (normalmente proveniente del usuario), lo que puede hacer que sean vulnerables a inyección sql si no se sanean las entradas, como por ejemplo: code eso es un ejemplo de una vulnerabilidad grave en la seguridad de una aplicación (web o no) porque si el usuario introdujese un valor como code nos encontraríamos con que la sentencia ejecutada sería: code y se eliminaría la tabla usuarios con todos los datos contenidos en ella. ¿cómo puedo evitar que la inyección sql ocurra en php? '"
      ]
     },
     "execution_count": 121,
     "metadata": {},
     "output_type": "execute_result"
    }
   ],
   "source": [
    "dados_espanhol.questoes_tratadas[0]"
   ]
  },
  {
   "cell_type": "markdown",
   "id": "7aecb053-8890-417d-bfaf-2786f0a28ec8",
   "metadata": {},
   "source": [
    "### Importando NLTK"
   ]
  },
  {
   "cell_type": "code",
   "execution_count": 123,
   "id": "4c27f47a-fa00-4e3c-ae8d-a9e460bb4eef",
   "metadata": {},
   "outputs": [],
   "source": [
    "from nltk.util import bigrams\n",
    "from nltk.lm.preprocessing import pad_both_ends"
   ]
  },
  {
   "cell_type": "code",
   "execution_count": 125,
   "id": "635eaf10-8b07-45cb-a9a3-d1d06687ef22",
   "metadata": {},
   "outputs": [
    {
     "name": "stdout",
     "output_type": "stream",
     "text": [
      "[('a', 'l'), ('l', 'u'), ('u', 'r'), ('r', 'a')]\n"
     ]
    }
   ],
   "source": [
    "teste = \"alura\"\n",
    "print(list(bigrams(teste)))"
   ]
  },
  {
   "cell_type": "code",
   "execution_count": 127,
   "id": "36a4ee8a-8b2a-4f7e-8533-4c25bc172919",
   "metadata": {},
   "outputs": [
    {
     "name": "stdout",
     "output_type": "stream",
     "text": [
      "[('<s>', 'a'), ('a', 'l'), ('l', 'u'), ('u', 'r'), ('r', 'a'), ('a', '</s>')]\n"
     ]
    }
   ],
   "source": [
    "print(list(bigrams(pad_both_ends(teste, n = 2))))"
   ]
  },
  {
   "cell_type": "code",
   "execution_count": 128,
   "id": "a22c7aa6-a08c-4670-82f4-6bf14015f410",
   "metadata": {},
   "outputs": [],
   "source": [
    "#uma maneira de identificar o início e final do texto"
   ]
  },
  {
   "cell_type": "code",
   "execution_count": null,
   "id": "2bfe1fb6-0fcb-4f0b-b3a2-809e000a0e8e",
   "metadata": {},
   "outputs": [],
   "source": []
  }
 ],
 "metadata": {
  "kernelspec": {
   "display_name": "Python 3 (ipykernel)",
   "language": "python",
   "name": "python3"
  },
  "language_info": {
   "codemirror_mode": {
    "name": "ipython",
    "version": 3
   },
   "file_extension": ".py",
   "mimetype": "text/x-python",
   "name": "python",
   "nbconvert_exporter": "python",
   "pygments_lexer": "ipython3",
   "version": "3.9.13"
  }
 },
 "nbformat": 4,
 "nbformat_minor": 5
}
